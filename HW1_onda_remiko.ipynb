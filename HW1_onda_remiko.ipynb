{
  "nbformat": 4,
  "nbformat_minor": 0,
  "metadata": {
    "colab": {
      "name": "HW1_onda_remiko.ipynb",
      "provenance": [],
      "collapsed_sections": [],
      "toc_visible": true,
      "include_colab_link": true
    },
    "kernelspec": {
      "name": "python3",
      "display_name": "Python 3"
    }
  },
  "cells": [
    {
      "cell_type": "markdown",
      "metadata": {
        "id": "view-in-github",
        "colab_type": "text"
      },
      "source": [
        "<a href=\"https://colab.research.google.com/github/remikoonda/Basic-Python/blob/main/HW1_onda_remiko.ipynb\" target=\"_parent\"><img src=\"https://colab.research.google.com/assets/colab-badge.svg\" alt=\"Open In Colab\"/></a>"
      ]
    },
    {
      "cell_type": "markdown",
      "metadata": {
        "id": "hm8RAKinXsIP"
      },
      "source": [
        "## **Homework 1**\n",
        "\n",
        "### Create a copy of the notebook to start answering the questions. Name your notebook in the format HW1_lastname_firstname.ipynb to facilitate the grading process. \n",
        "\n",
        "### Answer all the questions, test your code to ensure there are no errors and the results are as expected. Once you have answered all the questions, save the final copy, then go to File-> click on Download.ipynb. Once the local copy has been downloaded, submit your file on Blackboard under the corresponding assignment section. Also provide us a link to your notebook during submission. \n",
        "\n",
        "### **The due date of this homework is 02/05/2021 (Friday).**\n",
        "\n",
        "### Please ensure you follow all the steps mentioned in the homework.\n",
        "\n",
        "### All the questions have a sample input and output to help you understand the question. Please note that your programs will be tested for other sets of inputs and outputs along with the sample provided. So test your code for other inputs.\n",
        "\n",
        "### You can submit your solutions any number of times until the deadline.\n"
      ]
    },
    {
      "cell_type": "markdown",
      "metadata": {
        "id": "uacFrEaZfcfq"
      },
      "source": [
        "##### Q1. Write a program that prompts the user to enter a password then prints the length of the password.\n",
        "\n",
        "```\n",
        "Enter your password: hello\n",
        "Your password is 5 long.\n",
        "```\n",
        "\n",
        "\n"
      ]
    },
    {
      "cell_type": "code",
      "metadata": {
        "id": "avPyES14ftCt"
      },
      "source": [
        "password = input(\"Enter your password: \")\n",
        "length = len(password)\n",
        "print(\"Your password is\", length, \"long.\")"
      ],
      "execution_count": null,
      "outputs": []
    },
    {
      "cell_type": "markdown",
      "metadata": {
        "id": "K1yko-xUItU3"
      },
      "source": [
        ""
      ]
    },
    {
      "cell_type": "markdown",
      "metadata": {
        "id": "behD0j_Of2TW"
      },
      "source": [
        "##### Q2. Write a program that prompts the user to enter their full name then prints the number of characters in their name (do not count spaces).\n",
        "\n",
        "```\n",
        "What is your name? Amulya Katti\n",
        "Amulya Katti your name has 11 characters.\n",
        "```"
      ]
    },
    {
      "cell_type": "code",
      "metadata": {
        "id": "XSdIRjwlhSlu"
      },
      "source": [
        "name = input(\"What is your name? \")\n",
        "charac = len(name) - name.count(\" \")\n",
        "print(name, \"your name has\", charac, \"characters.\")"
      ],
      "execution_count": null,
      "outputs": []
    },
    {
      "cell_type": "markdown",
      "metadata": {
        "id": "5KHOWF6FhVHV"
      },
      "source": [
        "##### Q3. Write a program that prompts the user to enter a month (as a number), then prints the name of the month and the number of days in that month. Ensure that the user inputs a valid month and handle any error cases.\n",
        "\n",
        "```\n",
        "Enter the month number: 9\n",
        "September has 30 days\n",
        "```"
      ]
    },
    {
      "cell_type": "code",
      "metadata": {
        "id": "KhS-SAEThyTG"
      },
      "source": [
        "month = False\n",
        "while month == False:\n",
        "  monthNum = input(\"Enter the month number: \")\n",
        "  if monthNum.isdigit():\n",
        "    month = True\n",
        "    monthNum = int(monthNum)\n",
        "    if monthNum == 1:\n",
        "      print(\"January has 31 days\")\n",
        "    elif monthNum == 2:\n",
        "      print(\"February has 28 days\")\n",
        "    elif monthNum == 3:\n",
        "      print(\"March has 31 days\")\n",
        "    elif monthNum == 4:\n",
        "      print(\"April has 30 days\")\n",
        "    elif monthNum == 5:\n",
        "      print(\"May has 31 days\")\n",
        "    elif monthNum == 6:\n",
        "      print(\"June has 30 days\")\n",
        "    elif monthNum == 7:\n",
        "      print(\"July has 31 days\")\n",
        "    elif monthNum == 8:\n",
        "      print(\"August has 31 days\")\n",
        "    elif monthNum == 9:\n",
        "      print(\"September has 30 days\")\n",
        "    elif monthNum == 10:\n",
        "      print(\"October has 31 days\")\n",
        "    elif monthNum == 11:\n",
        "      print(\"November has 30 days\")\n",
        "    elif monthNum == 12:\n",
        "      print(\"December has 31 days\")\n",
        "    else:\n",
        "      None\n",
        "  else:\n",
        "      monthNum = input(\"Enter the month number: \")"
      ],
      "execution_count": null,
      "outputs": []
    },
    {
      "cell_type": "markdown",
      "metadata": {
        "id": "O7lnAdGlh6Xa"
      },
      "source": [
        "##### Q4. Write a program that prompts the user to enter a loan amount, annual interest rate, and number of years  for a car loan. Then calculate and print the monthly payment amount.\n",
        "\n",
        "Note:\n",
        "```\n",
        "PMT= [PV*i*((1+i)^n)]/[((1+i)^n)-1]\n",
        "```\n",
        "PMT is the monthly payment\n",
        "\n",
        "PV is the loan amount\n",
        "\n",
        "i is the interest rate per month in decimal form (interest rate percentage divided by 12)\n",
        "\n",
        "n is the number of months (term of the loan in months)\n",
        "\n",
        "```\n",
        "Loan Amount: 30000.00\n",
        "Annual Interest Rate: 4.00\n",
        "Years: 5\n",
        "Your monthly payment is: $552.50\n",
        "```"
      ]
    },
    {
      "cell_type": "code",
      "metadata": {
        "id": "p4B5JH5GiTs9"
      },
      "source": [
        "loan = input(\"Loan Amount: \")\n",
        "loan = float(loan)\n",
        "\n",
        "interest = input(\"Annual Interest Rate: \")\n",
        "interest = float(interest)\n",
        "interest = interest/100.0/12.0\n",
        "\n",
        "years = input(\"Years: \")\n",
        "years = float(years)\n",
        "years = 12.0 * years\n",
        "\n",
        "MonthlyPmt = (loan * interest * (1.0 + interest) ** years) / ((1.0 + interest) ** years - 1.0)\n",
        "MonthlyPmt = format(MonthlyPmt, '.2f')\n",
        "MonthlyPmt = str(MonthlyPmt)\n",
        "\n",
        "print(\"Your monthly payment is: $\" + MonthlyPmt)\n"
      ],
      "execution_count": null,
      "outputs": []
    },
    {
      "cell_type": "markdown",
      "metadata": {
        "id": "SjiolJKgiWV-"
      },
      "source": [
        "##### Q5. Write a program to that prompts the user to enter a string. Then check whether or not the string is a palindrome.\n",
        "\n",
        "```\n",
        "Enter a string: Madam\n",
        "Madam, is a palindrome!\n",
        "```"
      ]
    },
    {
      "cell_type": "code",
      "metadata": {
        "id": "F5_M934Ri0es"
      },
      "source": [
        "#Function to check for palindrome\n",
        "def isPalindrome(str):\n",
        "  for i in range(0, int(len(str)/2)):\n",
        "    if str[i] != str[len(str)-i-1]:\n",
        "      return False\n",
        "    else:\n",
        "      return True\n",
        "\n",
        "#Main function\n",
        "string = input(\"Enter a string: \")\n",
        "word = isPalindrome(string)\n",
        "\n",
        "if word == True:\n",
        "  print(string.capitalize() + \", is a palindrome!\")\n",
        "elif word == False:\n",
        "  print(string.capitalize() + \", is not a palindrome!\")\n",
        "else:\n",
        "  None\n"
      ],
      "execution_count": null,
      "outputs": []
    },
    {
      "cell_type": "markdown",
      "metadata": {
        "id": "BLBD6n9vkJEu"
      },
      "source": [
        "##### Q6. Write a program to compute and print all possible combinations of change for \\$1. Denominations to be considered – quarter, dime, nickel, penny.\n",
        "\n",
        "Hint: Use nested loops (loops within loops for the various denominations of coins)\n",
        "\n",
        "```\n",
        "Change for $1:\n",
        "0 quarters, 0 dimes, 0 nickels, 100 pennies\n",
        "…\n",
        "4 quarters, 0 dimes, 0 nickels, 0 pennies\n",
        "```"
      ]
    },
    {
      "cell_type": "code",
      "metadata": {
        "id": "kAQsTjwDkZZ5"
      },
      "source": [
        "quarter = 25\n",
        "dime = 10\n",
        "nickel = 5\n",
        "penny = 1\n",
        "\n",
        "dollar = 100\n",
        "combinations = []\n",
        "\n",
        "maxQuarter = int(dollar / quarter)\n",
        "\n",
        "value = 0\n",
        "for q in range(maxQuarter+1):\n",
        "  value = 0\n",
        "  value += q * quarter\n",
        "  if (value == dollar):\n",
        "    combinations.append([q,0,0,0])\n",
        "    break\n",
        " \n",
        "  maxDimeAfterQuarter = int ((dollar-value)/dime)\n",
        "  for d in range(maxDimeAfterQuarter+1):\n",
        "    if ((value + d * dime) == dollar):\n",
        "      combinations.append([q,d,0,0])\n",
        "      break\n",
        "    \n",
        "    valueAfterDime = value + d * dime\n",
        "    maxNickelAfterDime = int ((dollar-valueAfterDime)/nickel)\n",
        "    for n in range(maxNickelAfterDime+1):\n",
        "      if ((valueAfterDime + n * nickel) == dollar):\n",
        "        combinations.append([q,d,n,0])\n",
        "        break\n",
        "      \n",
        "      valueAfterNickel = valueAfterDime + n * nickel\n",
        "      maxPennyAfterNickel = int ((dollar-valueAfterNickel)/penny)\n",
        "      for p in range(maxPennyAfterNickel+1):\n",
        "        if ((valueAfterNickel + p * penny) == dollar):\n",
        "          combinations.append([q,d,n,p])\n",
        "          break\n",
        "  \n",
        "print(\"Change for $1:\")\n",
        "for combi in combinations:\n",
        "  print(str(combi[0]) + \" quarters, \" + str(combi[1]) + \" nickels, \" + str(combi[2]) + \" dimes, \" + str(combi[3]) + \" pennies\")\n"
      ],
      "execution_count": null,
      "outputs": []
    },
    {
      "cell_type": "markdown",
      "metadata": {
        "id": "rUPDjYiIkbgs"
      },
      "source": [
        "##### Q7. Ask the user to enter two positive integers between 1 and 100. Read those integers. Then output a multiplication table of the first number times the second number. \n",
        "\n",
        "Note: You have to ensure the entered numbers are between 1 and 100 only.\n",
        "\n",
        "```\n",
        "Please enter an integer: 5\n",
        "Please enter another integer: 20\n",
        "5 x 1 = 5\n",
        "5 x 2 = 10\n",
        "5 x 3 = 15\n",
        "…\n",
        "5 x 20 = 100\n",
        "```"
      ]
    },
    {
      "cell_type": "code",
      "metadata": {
        "id": "Qg0Orv1klHzA"
      },
      "source": [
        "first = 0\n",
        "while(not(first > 1 and first < 100)):\n",
        "  first = int(input(\"Please enter an integer: \"))\n",
        "\n",
        "second = 0\n",
        "while(not(second > 1 and second < 100)):\n",
        "  second = int(input(\"Please enter another integer: \"))\n",
        "\n",
        "maxNum = second + 1\n",
        "\n",
        "#use for loop to generate the multiplication table\n",
        "for i in range(1,maxNum):\n",
        "  print(first, 'x', i, '=', first*i )"
      ],
      "execution_count": null,
      "outputs": []
    },
    {
      "cell_type": "markdown",
      "metadata": {
        "id": "SbnbPUPTlLD9"
      },
      "source": [
        "##### Q8. Write a program to ask the user to enter a password. Then check to see if it is a valid password based on these requirements -\n",
        "\n",
        "Must be at least 8 characters long\n",
        "\n",
        "Must contain both uppercase and lowercase letters\n",
        "\n",
        "Must contain at least one number between 0-9\n",
        "\n",
        "Must contain a special character -!,@,#,$\n",
        "\n",
        "If the password is not valid, ask the user to re-enter. This should continue until the user enters a valid password. After a valid password is entered, print Access Granted!\n",
        "\n",
        "```\n",
        "Please enter a password. Follow these requirements - \n",
        "a. Must be at least 8 characters long\n",
        "b. Must contain both uppercase and lowercase letters\n",
        "c. Must contain at least one number between 0-9\n",
        "d. Must contain a special character -!,@,#,$\n",
        "Password: HelloWorld1\n",
        "Invalid password. Try again!\n",
        "Password: Hello@World1\n",
        "Access Granted!\n",
        "```\n"
      ]
    },
    {
      "cell_type": "code",
      "metadata": {
        "id": "OXmZ177Rl-RV"
      },
      "source": [
        "print(\"Please enter a password. Follow these requirements - \")\n",
        "print(\"a. Must be at least 8 characters long\")\n",
        "print(\"b. Must contain both uppercase and lowercase letters\")\n",
        "print(\"c. Must contain at least one number between 0-9\")\n",
        "print(\"d. Must contain a special character -!,@,#,$\")\n",
        "\n",
        "a, u, p, d = 0, 0, 0, 0\n",
        "\n",
        "while (not(a>=1 and u>=1 and p>=1 and d>=1 and a+p+u+d==len(password))):\n",
        "  a, u, p, d = 0, 0, 0, 0\n",
        "  password = input(\"Password: \")\n",
        "  if (len(password) >= 8):\n",
        "    for i in password:\n",
        "      if (i.islower()): \n",
        "        a+=1 \n",
        "      if (i.isupper()): \n",
        "        u+=1 \n",
        "      if (i.isdigit() and int(i) >= 0 and int(i) <= 9): \n",
        "        d+=1 \n",
        "      if (i=='@'or i=='$' or i=='#' or i=='-!'): \n",
        "        p+=1\n",
        "    \n",
        "  if (a>=1 and u>=1 and p>=1 and d>=1 and a+p+u+d==len(password)): \n",
        "    print(\"Access Granted!\") \n",
        "  else:\n",
        "    print(\"Invalid password. Try again!\") \n",
        "    \n"
      ],
      "execution_count": null,
      "outputs": []
    },
    {
      "cell_type": "markdown",
      "metadata": {
        "id": "-0sdutTDnTKA"
      },
      "source": [
        "##### Q9. Given the score sheet of participants in a competition, you are required to find the runner-up score. You are given scores in a list. Find the score of the runner-up.\n",
        "\n",
        "```\n",
        "list1 - [2, 3, 6, 6, 5]\n",
        "runner_up - 5\n",
        "\n",
        "list2 - [1, 7, 5, 3, 10, 4, 5, 5, 6, 11]\n",
        "runner_up - 10\n",
        "```"
      ]
    },
    {
      "cell_type": "code",
      "metadata": {
        "id": "12YP9OaqpGRK"
      },
      "source": [
        "list1 = [2, 3, 6, 6, 5]\n",
        "list2 = [1, 7, 5, 3, 10, 4, 5, 5, 6, 11]\n",
        "\n",
        "list1.sort(reverse=True)\n",
        "list2.sort(reverse=True)\n",
        "\n",
        "for i in list1:\n",
        "  if list1.count(i) > 1:\n",
        "    list1.remove(i)\n",
        "  else:\n",
        "    continue\n",
        "\n",
        "for i in list2:\n",
        "  if list2.count(i) > 1:\n",
        "    list2.remove(i)\n",
        "  else:\n",
        "    continue\n",
        "\n",
        "runnerup1 = list1[1]\n",
        "runnerup2 = list2[1]\n",
        "\n",
        "print(\"list1 - [2, 3, 6, 6, 5]\")\n",
        "print(\"runner_up -\", runnerup1)\n",
        "\n",
        "print(\"\\nlist2 - [1, 7, 5, 3, 10, 4, 5, 5, 6, 11]\")\n",
        "print(\"runner_up -\", runnerup2)\n"
      ],
      "execution_count": null,
      "outputs": []
    }
  ]
}